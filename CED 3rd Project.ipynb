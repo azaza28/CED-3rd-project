{
 "cells": [
  {
   "cell_type": "markdown",
   "id": "bee4658d",
   "metadata": {},
   "source": [
    "### Importing all the necessary libraries"
   ]
  },
  {
   "cell_type": "code",
   "execution_count": 31,
   "id": "47a9404c",
   "metadata": {},
   "outputs": [],
   "source": [
    "from pandas import ExcelWriter\n",
    "from pandas import ExcelFile\n",
    "import pandas as pd\n",
    "from sklearn.model_selection import train_test_split\n",
    "import numpy as np\n",
    "import matplotlib.pyplot as plt\n",
    "from sklearn.metrics import r2_score\n",
    "line=\"{\""
   ]
  },
  {
   "cell_type": "markdown",
   "id": "3db6dbc7",
   "metadata": {},
   "source": [
    "### Opening Excel file with all the data"
   ]
  },
  {
   "cell_type": "code",
   "execution_count": 32,
   "id": "f693becc",
   "metadata": {},
   "outputs": [
    {
     "data": {
      "text/html": [
       "<div>\n",
       "<style scoped>\n",
       "    .dataframe tbody tr th:only-of-type {\n",
       "        vertical-align: middle;\n",
       "    }\n",
       "\n",
       "    .dataframe tbody tr th {\n",
       "        vertical-align: top;\n",
       "    }\n",
       "\n",
       "    .dataframe thead th {\n",
       "        text-align: right;\n",
       "    }\n",
       "</style>\n",
       "<table border=\"1\" class=\"dataframe\">\n",
       "  <thead>\n",
       "    <tr style=\"text-align: right;\">\n",
       "      <th></th>\n",
       "      <th>Speed</th>\n",
       "      <th>Voltage</th>\n",
       "    </tr>\n",
       "  </thead>\n",
       "  <tbody>\n",
       "    <tr>\n",
       "      <th>0</th>\n",
       "      <td>0.0</td>\n",
       "      <td>0</td>\n",
       "    </tr>\n",
       "    <tr>\n",
       "      <th>1</th>\n",
       "      <td>2.7</td>\n",
       "      <td>153</td>\n",
       "    </tr>\n",
       "    <tr>\n",
       "      <th>2</th>\n",
       "      <td>2.8</td>\n",
       "      <td>153</td>\n",
       "    </tr>\n",
       "    <tr>\n",
       "      <th>3</th>\n",
       "      <td>2.8</td>\n",
       "      <td>153</td>\n",
       "    </tr>\n",
       "    <tr>\n",
       "      <th>4</th>\n",
       "      <td>2.8</td>\n",
       "      <td>154</td>\n",
       "    </tr>\n",
       "  </tbody>\n",
       "</table>\n",
       "</div>"
      ],
      "text/plain": [
       "   Speed  Voltage\n",
       "0    0.0        0\n",
       "1    2.7      153\n",
       "2    2.8      153\n",
       "3    2.8      153\n",
       "4    2.8      154"
      ]
     },
     "execution_count": 32,
     "metadata": {},
     "output_type": "execute_result"
    }
   ],
   "source": [
    "df=pd.read_excel(\"speed-voltage.xlsx\",sheet_name='Лист4')\n",
    "df.head()"
   ]
  },
  {
   "cell_type": "markdown",
   "id": "cfcebb18",
   "metadata": {},
   "source": [
    "### Preparing test and train data"
   ]
  },
  {
   "cell_type": "code",
   "execution_count": 33,
   "id": "cf95037d",
   "metadata": {},
   "outputs": [],
   "source": [
    "x=df[\"Voltage\"].tolist()\n",
    "y=df[\"Speed\"].tolist()\n",
    "\n",
    "X_train, X_test, y_train, y_test = train_test_split(\n",
    "x[1:-1], y[1:-1], test_size=0.20, random_state=42)"
   ]
  },
  {
   "cell_type": "code",
   "execution_count": null,
   "id": "752f6a77",
   "metadata": {},
   "outputs": [],
   "source": []
  },
  {
   "cell_type": "markdown",
   "id": "64c573f6",
   "metadata": {},
   "source": [
    "### Obtaining linear function from practically got values"
   ]
  },
  {
   "cell_type": "code",
   "execution_count": 34,
   "id": "9fa25289",
   "metadata": {},
   "outputs": [
    {
     "name": "stdout",
     "output_type": "stream",
     "text": [
      "           3             2\n",
      "9.277e-07 x - 0.0003603 x + 0.05208 x + 0.001195\n"
     ]
    }
   ],
   "source": [
    "curve=np.polyfit(x,y,3)\n",
    "poly=np.poly1d(curve)\n",
    "print(poly)"
   ]
  },
  {
   "cell_type": "markdown",
   "id": "c0446e1a",
   "metadata": {},
   "source": [
    "### Preparing data for the graph "
   ]
  },
  {
   "cell_type": "code",
   "execution_count": 35,
   "id": "f2e27b58",
   "metadata": {},
   "outputs": [],
   "source": [
    "new_x = np.linspace(x[0], x[-1])\n",
    "new_y = poly(new_x)"
   ]
  },
  {
   "cell_type": "markdown",
   "id": "16399428",
   "metadata": {},
   "source": [
    "### R squared of cubic function"
   ]
  },
  {
   "cell_type": "code",
   "execution_count": 36,
   "id": "b2ad062c",
   "metadata": {},
   "outputs": [
    {
     "name": "stdout",
     "output_type": "stream",
     "text": [
      "0.9743877183000348\n"
     ]
    }
   ],
   "source": [
    "r2 = r2_score(y_test, poly(X_test))\n",
    "print(r2)"
   ]
  },
  {
   "cell_type": "markdown",
   "id": "7cdda9f3",
   "metadata": {},
   "source": [
    "### Calculating RSS of cubic function"
   ]
  },
  {
   "cell_type": "code",
   "execution_count": 37,
   "id": "1869b4ba",
   "metadata": {},
   "outputs": [
    {
     "data": {
      "text/plain": [
       "0.15002292369716136"
      ]
     },
     "execution_count": 37,
     "metadata": {},
     "output_type": "execute_result"
    }
   ],
   "source": [
    "rss=0\n",
    "for i in range(len(y_test)):\n",
    "    rss+=(y_test[i]-poly(X_test[i]))**2\n",
    "rss"
   ]
  },
  {
   "cell_type": "markdown",
   "id": "cb3c707c",
   "metadata": {},
   "source": [
    "### Plotting our function"
   ]
  },
  {
   "cell_type": "code",
   "execution_count": 38,
   "id": "237a4629",
   "metadata": {},
   "outputs": [
    {
     "data": {
      "text/plain": [
       "(-1.0, 232.0)"
      ]
     },
     "execution_count": 38,
     "metadata": {},
     "output_type": "execute_result"
    },
    {
     "data": {
      "image/png": "[encoded data removed]",
      "text/plain": [
       "<Figure size 432x288 with 1 Axes>"
      ]
     },
     "metadata": {
      "needs_background": "light"
     },
     "output_type": "display_data"
    }
   ],
   "source": [
    "plt.plot(x, y, \"o\", new_x, new_y,'orange')\n",
    "plt.title(\"Converting Output Voltage into Windspeed\",fontdict={'family':'serif','color':'darkred'})\n",
    "plt.xlabel(\"Voltage(mV)\",fontdict={'family':'serif','color':'blue'})\n",
    "plt.ylabel(\"Windspeed(m/s)\",fontdict={'family':'serif','color':'blue'})\n",
    "plt.xlim([x[0]-1, x[-1] + 1 ])"
   ]
  },
  {
   "cell_type": "code",
   "execution_count": null,
   "id": "7fcf46ca",
   "metadata": {},
   "outputs": [],
   "source": []
  },
  {
   "cell_type": "code",
   "execution_count": null,
   "id": "a07ddc60",
   "metadata": {},
   "outputs": [],
   "source": []
  },
  {
   "cell_type": "code",
   "execution_count": null,
   "id": "47ffee33",
   "metadata": {},
   "outputs": [],
   "source": []
  },
  {
   "cell_type": "code",
   "execution_count": 39,
   "id": "a1588122",
   "metadata": {},
   "outputs": [
    {
     "data": {
      "text/plain": [
       "0.7996186447088455"
      ]
     },
     "execution_count": 39,
     "metadata": {},
     "output_type": "execute_result"
    }
   ],
   "source": [
    "rss=0\n",
    "\n",
    "for i in range(len(y_test)):\n",
    "    rss+=(abs((y_test[i])-poly(X_test[i]))/y_test[i])\n",
    "rss"
   ]
  },
  {
   "cell_type": "code",
   "execution_count": 43,
   "id": "c72260fa",
   "metadata": {
    "scrolled": true
   },
   "outputs": [
    {
     "data": {
      "text/plain": [
       "2.90855726182141"
      ]
     },
     "execution_count": 43,
     "metadata": {},
     "output_type": "execute_result"
    }
   ],
   "source": [
    "poly(160) "
   ]
  },
  {
   "cell_type": "markdown",
   "id": "e8993643",
   "metadata": {},
   "source": [
    "### Data for WolframAlpha"
   ]
  },
  {
   "cell_type": "code",
   "execution_count": 41,
   "id": "e22c321d",
   "metadata": {},
   "outputs": [
    {
     "data": {
      "text/plain": [
       "'{{190,3.2},{186,3.1},{193,3.3},{171,3.0},{184,3.1},{206,3.6},{224,4.0},{210,3.6},{216,3.8},{198,3.4},{202,3.5},{189,3.2},{219,3.9},{164,3.0},{196,3.4},{155,2.8},{211,3.7},{159,2.9},{158,2.9},{213,3.7},{163,3.0},{188,3.2},{200,3.5},{210,3.6},{200,3.5},{220,4.0},{202,3.5},{194,3.3},{198,3.4},{222,4.0},{225,4.0},{165,3.0},{191,3.2},{157,2.9},{224,4.0},{187,3.2},{157,2.9},{209,3.6},{184,3.1},{177,3.1},{209,3.6},{194,3.3},{170,3.0},{185,3.1},{156,2.9},{156,2.8},{205,3.6},{203,3.5},{186,3.1},{166,3.0},{209,3.6},{160,2.9},{157,2.9},{163,3.0},{210,3.6},{217,3.8},{165,3.0},{190,3.2},{210,3.6},{166,3.0},{159,2.9},{220,3.9},{196,3.4},{209,3.6},{196,3.4},{191,3.2},{195,3.3},{183,3.1},{216,3.7},{193,3.3},{212,3.7},{221,4.0},{205,3.6},{205,3.6},{220,4.0},{194,3.3},{200,3.5},{192,3.2},{161,2.9},{202,3.5},{199,3.4},{198,3.4},{189,3.2},{199,3.4},{190,3.2},{218,3.9},{217,3.8},{213,3.7},{200,3.4},{200,3.4},{153,2.8},{190,3.2},{195,3.3},{200,3.4},{190,3.2},{206,3.6},{214,3.7},{191,3.2},{173,3.0},{159,2.9},{182,3.1},{211,3.7},{188,3.2},{196,3.4},{197,3.4},{192,3.3},{201,3.5},{208,3.6},{218,3.8},{165,3.0},{211,3.7},{182,3.1},{206,3.6},{195,3.3},{156,2.9},{160,2.9},{159,2.9},{197,3.4},{194,3.3},{202,3.5},{192,3.2},{199,3.4},{163,3.0},{185,3.1},{205,3.6},{198,3.4},{215,3.7},{161,2.9},{183,3.1},{207,3.6},{193,3.3},{159,2.9},{224,4.0},{193,3.3},{203,3.5},{153,2.7},{216,3.8},{217,3.8},{186,3.1},{199,3.4},{213,3.7},{186,3.2},{197,3.4},{186,3.1},{160,2.9},{164,3.0},{194,3.3},{162,3.0},{204,3.5},{211,3.7},{156,2.8},{225,4.0},{200,3.5},{216,3.8},{159,2.9},{208,3.6},{154,2.8},{190,3.2},{159,2.9},{204,3.5},{196,3.4},{205,3.6},{213,3.7},{193,3.3},{165,3.0},{202,3.5},{193,3.3},{191,3.2},{223,4.0},{155,2.8},{166,3.0},{220,3.9},{165,3.0},{162,3.0},{156,2.9},{195,3.3},{161,2.9},{210,3.6},{190,3.2},{218,3.8},{203,3.5},{195,3.3},{158,2.9},{215,3.7},{189,3.2},{178,3.1},{207,3.6},{201,3.5},{202,3.5},{161,2.9},{217,3.8},{209,3.6},{210,3.6},{223,4.0},{200,3.5},{196,3.4},{161,3.0},{203,3.5},{199,3.4},{211,3.7},{187,3.2},{163,3.0},{153,2.8},{162,3.0},{178,3.1},{201,3.5},{160,2.9},{212,3.7},{184,3.1},{163,3.0},{212,3.7},{208,3.6},{156,2.9},{183,3.1},{215,3.7},{196,3.4},{224,4.0},{192,3.3},{221,4.0},{209,3.6},{163,3.0},{163,3.0},{197,3.4},{199,3.4},{225,4.0},{199,3.4},{197,3.4},{164,3.0},{162,3.0},{207,3.6},{210,3.6},{158,2.9},{195,3.3},{215,3.7},{199,3.4},{219,3.9},{211,3.7},{194,3.3},{192,3.2},{194,3.3},{186,3.1},{183,3.1},{202,3.5},{190,3.2},{228,4.0},{157,2.9},{199,3.4},{166,3.0},{187,3.2},{214,3.7},{186,3.1},'"
      ]
     },
     "execution_count": 41,
     "metadata": {},
     "output_type": "execute_result"
    }
   ],
   "source": [
    "for i in range(len(X_train)):\n",
    "    line+=\"{\"+str(X_train[i])+','+str(y_train[i])+'}'+','\n",
    "line"
   ]
  },
  {
   "cell_type": "code",
   "execution_count": null,
   "id": "f03cfc4f",
   "metadata": {},
   "outputs": [],
   "source": []
  },
  {
   "cell_type": "code",
   "execution_count": null,
   "id": "f209c1ed",
   "metadata": {},
   "outputs": [],
   "source": []
  },
  {
   "cell_type": "code",
   "execution_count": null,
   "id": "5e33ccd8",
   "metadata": {},
   "outputs": [],
   "source": []
  }
 ],
 "metadata": {
  "kernelspec": {
   "display_name": "Python 3 (ipykernel)",
   "language": "python",
   "name": "python3"
  },
  "language_info": {
   "codemirror_mode": {
    "name": "ipython",
    "version": 3
   },
   "file_extension": ".py",
   "mimetype": "text/x-python",
   "name": "python",
   "nbconvert_exporter": "python",
   "pygments_lexer": "ipython3",
   "version": "3.10.1"
  }
 },
 "nbformat": 4,
 "nbformat_minor": 5
}
